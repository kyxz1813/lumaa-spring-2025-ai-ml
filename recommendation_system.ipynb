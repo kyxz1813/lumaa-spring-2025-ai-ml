{
 "cells": [
  {
   "cell_type": "code",
   "execution_count": 53,
   "metadata": {},
   "outputs": [],
   "source": [
    "import sys\n",
    "import numpy as np\n",
    "import pandas as pd\n",
    "from pathlib import Path\n",
    "from collections import defaultdict\n",
    "from sklearn import linear_model\n",
    "from sentence_transformers import SentenceTransformer, util\n",
    "from scipy.sparse import lil_matrix\n",
    "from sklearn.feature_extraction.text import TfidfVectorizer\n",
    "from sklearn.metrics.pairwise import cosine_similarity\n"
   ]
  },
  {
   "cell_type": "markdown",
   "metadata": {},
   "source": [
    "## Create Dataset"
   ]
  },
  {
   "cell_type": "markdown",
   "metadata": {},
   "source": [
    "I couldn't found a dataset with both plot description and genres with less than 500 rows; therefore, I prepocessed and merged three datasets to create a new dataset that satisfy this challenge's requirement."
   ]
  },
  {
   "cell_type": "code",
   "execution_count": 54,
   "metadata": {},
   "outputs": [
    {
     "name": "stderr",
     "output_type": "stream",
     "text": [
      "/var/folders/vj/8sy8f4g13mjdsc5fff4gw4940000gn/T/ipykernel_51399/1142496291.py:1: DtypeWarning: Columns (10) have mixed types. Specify dtype option on import or set low_memory=False.\n",
      "  main = pd.read_csv('data/movies_metadata.csv')\n"
     ]
    }
   ],
   "source": [
    "main = pd.read_csv('data/movies_metadata.csv')\n",
    "main = main.dropna()\n",
    "main = main.drop_duplicates()\n",
    "main = main[['id', 'original_title', 'release_date','genres', 'vote_average' ]]\n",
    "main['id'] = main['id'].astype(int)"
   ]
  },
  {
   "cell_type": "code",
   "execution_count": 55,
   "metadata": {},
   "outputs": [],
   "source": [
    "keywords = pd.read_csv('data/keywords.csv')\n",
    "keywords = keywords.dropna()\n",
    "keywords = keywords.drop_duplicates()"
   ]
  },
  {
   "cell_type": "code",
   "execution_count": 56,
   "metadata": {},
   "outputs": [],
   "source": [
    "plot = pd.read_csv('data/wiki_movie_plots_deduped.csv')\n",
    "plot = plot.dropna()\n",
    "plot = plot.drop_duplicates()\n",
    "plot['Release Year'] = plot['Release Year'].astype(str)\n",
    "plot = plot[['Title','Plot', 'Release Year']]"
   ]
  },
  {
   "cell_type": "markdown",
   "metadata": {},
   "source": [
    "Convert the main dataset genres column to column of lists of genres"
   ]
  },
  {
   "cell_type": "code",
   "execution_count": 57,
   "metadata": {},
   "outputs": [],
   "source": [
    "import ast\n",
    "genres = []\n",
    "for row in list(main['genres']):\n",
    "    row = ast.literal_eval(row)\n",
    "    row_genre = []\n",
    "    for genre in row:\n",
    "        # genre = ast.literal_eval(genre)\n",
    "        row_genre.append(genre['name'])\n",
    "    genres.append(row_genre)"
   ]
  },
  {
   "cell_type": "markdown",
   "metadata": {},
   "source": [
    "Remove rows that genres is empty."
   ]
  },
  {
   "cell_type": "code",
   "execution_count": 58,
   "metadata": {},
   "outputs": [],
   "source": [
    "main['genres'] = genres\n",
    "main = main[main['genres'].apply(lambda x: x != [])]\n",
    "main = main.reset_index(drop = True)\n"
   ]
  },
  {
   "cell_type": "markdown",
   "metadata": {},
   "source": [
    "Create a Release Year column from release_date column that only contains years."
   ]
  },
  {
   "cell_type": "code",
   "execution_count": 59,
   "metadata": {},
   "outputs": [],
   "source": [
    "main['Release Year'] = main['release_date'].apply(lambda x: x.split('-')[0])"
   ]
  },
  {
   "cell_type": "markdown",
   "metadata": {},
   "source": [
    "Convert the keyword dataset keywords column to column of lists of keywords"
   ]
  },
  {
   "cell_type": "code",
   "execution_count": 60,
   "metadata": {},
   "outputs": [],
   "source": [
    "keyword_col = []\n",
    "for row in list(keywords['keywords']):\n",
    "    row = ast.literal_eval(row)\n",
    "    row_keywords = []\n",
    "    for keyword in row:\n",
    "        row_keywords.append(keyword['name'])\n",
    "    keyword_col.append(row_keywords)"
   ]
  },
  {
   "cell_type": "markdown",
   "metadata": {},
   "source": [
    "Remove rows that keywords is empty."
   ]
  },
  {
   "cell_type": "code",
   "execution_count": 61,
   "metadata": {},
   "outputs": [],
   "source": [
    "keywords['keywords'] = keyword_col\n",
    "keywords = keywords[keywords['keywords'].apply(lambda x: x != [])]\n",
    "keywords = keywords.reset_index(drop=True)\n"
   ]
  },
  {
   "cell_type": "markdown",
   "metadata": {},
   "source": [
    "Merge all three dataframes."
   ]
  },
  {
   "cell_type": "code",
   "execution_count": 65,
   "metadata": {},
   "outputs": [],
   "source": [
    "full_movies = pd.merge(main, keywords, on = 'id', how = 'inner')\n",
    "full_movies = full_movies.drop_duplicates(subset = ['id'])\n",
    "full_movies = full_movies.rename(columns = {'original_title': 'Title'})\n",
    "full_movies = pd.merge(full_movies, plot, on = ['Title', 'Release Year'], how = 'inner')\n",
    "full_movies.drop(columns = ['id', 'release_date'], inplace = True)"
   ]
  },
  {
   "cell_type": "markdown",
   "metadata": {},
   "source": [
    "Save the created dataset to csv file."
   ]
  },
  {
   "cell_type": "code",
   "execution_count": null,
   "metadata": {},
   "outputs": [],
   "source": [
    "full_movies.to_csv('data/full_movies.csv', index=False)"
   ]
  },
  {
   "cell_type": "markdown",
   "metadata": {},
   "source": [
    "## Load Data"
   ]
  },
  {
   "cell_type": "code",
   "execution_count": null,
   "metadata": {},
   "outputs": [
    {
     "data": {
      "text/html": [
       "<div>\n",
       "<style scoped>\n",
       "    .dataframe tbody tr th:only-of-type {\n",
       "        vertical-align: middle;\n",
       "    }\n",
       "\n",
       "    .dataframe tbody tr th {\n",
       "        vertical-align: top;\n",
       "    }\n",
       "\n",
       "    .dataframe thead th {\n",
       "        text-align: right;\n",
       "    }\n",
       "</style>\n",
       "<table border=\"1\" class=\"dataframe\">\n",
       "  <thead>\n",
       "    <tr style=\"text-align: right;\">\n",
       "      <th></th>\n",
       "      <th>Title</th>\n",
       "      <th>genres</th>\n",
       "      <th>vote_average</th>\n",
       "      <th>Release Year</th>\n",
       "      <th>keywords</th>\n",
       "      <th>Plot</th>\n",
       "    </tr>\n",
       "  </thead>\n",
       "  <tbody>\n",
       "    <tr>\n",
       "      <th>0</th>\n",
       "      <td>GoldenEye</td>\n",
       "      <td>['Adventure', 'Action', 'Thriller']</td>\n",
       "      <td>6.6</td>\n",
       "      <td>1995</td>\n",
       "      <td>['cuba', 'falsely accused', 'secret identity',...</td>\n",
       "      <td>In 1986, at Arkhangelsk, MI6 agents James Bond...</td>\n",
       "    </tr>\n",
       "    <tr>\n",
       "      <th>1</th>\n",
       "      <td>Friday</td>\n",
       "      <td>['Comedy']</td>\n",
       "      <td>7.0</td>\n",
       "      <td>1995</td>\n",
       "      <td>['rap music', 'parent child relationship', 'ra...</td>\n",
       "      <td>Craig Jones, a young man living in South Centr...</td>\n",
       "    </tr>\n",
       "    <tr>\n",
       "      <th>2</th>\n",
       "      <td>From Dusk Till Dawn</td>\n",
       "      <td>['Horror', 'Action', 'Thriller', 'Crime']</td>\n",
       "      <td>6.9</td>\n",
       "      <td>1996</td>\n",
       "      <td>['dancing', 'brother brother relationship', 's...</td>\n",
       "      <td>Fugitive bank robbers Seth and Richie Gecko ho...</td>\n",
       "    </tr>\n",
       "    <tr>\n",
       "      <th>3</th>\n",
       "      <td>Blue in the Face</td>\n",
       "      <td>['Comedy']</td>\n",
       "      <td>6.8</td>\n",
       "      <td>1995</td>\n",
       "      <td>['smoking', 'corner shop', 'cigarette', 'tobac...</td>\n",
       "      <td>The film once again centers on the Brooklyn Ci...</td>\n",
       "    </tr>\n",
       "    <tr>\n",
       "      <th>4</th>\n",
       "      <td>Mighty Morphin Power Rangers: The Movie</td>\n",
       "      <td>['Action', 'Adventure', 'Science Fiction', 'Fa...</td>\n",
       "      <td>5.2</td>\n",
       "      <td>1995</td>\n",
       "      <td>['based on tv series', 'tokusatsu', 'superhero...</td>\n",
       "      <td>The Power Rangers participate with Bulk and Sk...</td>\n",
       "    </tr>\n",
       "    <tr>\n",
       "      <th>...</th>\n",
       "      <td>...</td>\n",
       "      <td>...</td>\n",
       "      <td>...</td>\n",
       "      <td>...</td>\n",
       "      <td>...</td>\n",
       "      <td>...</td>\n",
       "    </tr>\n",
       "    <tr>\n",
       "      <th>395</th>\n",
       "      <td>Cars 3</td>\n",
       "      <td>['Family', 'Comedy', 'Animation', 'Adventure']</td>\n",
       "      <td>6.6</td>\n",
       "      <td>2017</td>\n",
       "      <td>['cgi', 'anthropomorphism']</td>\n",
       "      <td>Lightning McQueen, now a seven-time Piston Cup...</td>\n",
       "    </tr>\n",
       "    <tr>\n",
       "      <th>396</th>\n",
       "      <td>Despicable Me 3</td>\n",
       "      <td>['Action', 'Animation', 'Adventure', 'Family',...</td>\n",
       "      <td>6.2</td>\n",
       "      <td>2017</td>\n",
       "      <td>['minions']</td>\n",
       "      <td>Former villain Gru is now an agent for the Ant...</td>\n",
       "    </tr>\n",
       "    <tr>\n",
       "      <th>397</th>\n",
       "      <td>War for the Planet of the Apes</td>\n",
       "      <td>['Drama', 'Science Fiction', 'War']</td>\n",
       "      <td>6.7</td>\n",
       "      <td>2017</td>\n",
       "      <td>['based on novel', 'sequel', 'talking animal',...</td>\n",
       "      <td>Two years have passed[9] since the human-hatin...</td>\n",
       "    </tr>\n",
       "    <tr>\n",
       "      <th>398</th>\n",
       "      <td>Goon: Last of the Enforcers</td>\n",
       "      <td>['Comedy']</td>\n",
       "      <td>6.0</td>\n",
       "      <td>2017</td>\n",
       "      <td>['ice hockey']</td>\n",
       "      <td>During a pro hockey lockout, Doug \"The Thug\" G...</td>\n",
       "    </tr>\n",
       "    <tr>\n",
       "      <th>399</th>\n",
       "      <td>Transformers: The Last Knight</td>\n",
       "      <td>['Action', 'Science Fiction', 'Thriller', 'Adv...</td>\n",
       "      <td>6.2</td>\n",
       "      <td>2017</td>\n",
       "      <td>['knight', 'transformers']</td>\n",
       "      <td>In 484 AD, King Arthur and his knights battle ...</td>\n",
       "    </tr>\n",
       "  </tbody>\n",
       "</table>\n",
       "<p>390 rows × 6 columns</p>\n",
       "</div>"
      ],
      "text/plain": [
       "                                       Title  \\\n",
       "0                                  GoldenEye   \n",
       "1                                     Friday   \n",
       "2                        From Dusk Till Dawn   \n",
       "3                           Blue in the Face   \n",
       "4    Mighty Morphin Power Rangers: The Movie   \n",
       "..                                       ...   \n",
       "395                                   Cars 3   \n",
       "396                          Despicable Me 3   \n",
       "397           War for the Planet of the Apes   \n",
       "398              Goon: Last of the Enforcers   \n",
       "399            Transformers: The Last Knight   \n",
       "\n",
       "                                                genres  vote_average  \\\n",
       "0                  ['Adventure', 'Action', 'Thriller']           6.6   \n",
       "1                                           ['Comedy']           7.0   \n",
       "2            ['Horror', 'Action', 'Thriller', 'Crime']           6.9   \n",
       "3                                           ['Comedy']           6.8   \n",
       "4    ['Action', 'Adventure', 'Science Fiction', 'Fa...           5.2   \n",
       "..                                                 ...           ...   \n",
       "395     ['Family', 'Comedy', 'Animation', 'Adventure']           6.6   \n",
       "396  ['Action', 'Animation', 'Adventure', 'Family',...           6.2   \n",
       "397                ['Drama', 'Science Fiction', 'War']           6.7   \n",
       "398                                         ['Comedy']           6.0   \n",
       "399  ['Action', 'Science Fiction', 'Thriller', 'Adv...           6.2   \n",
       "\n",
       "     Release Year                                           keywords  \\\n",
       "0            1995  ['cuba', 'falsely accused', 'secret identity',...   \n",
       "1            1995  ['rap music', 'parent child relationship', 'ra...   \n",
       "2            1996  ['dancing', 'brother brother relationship', 's...   \n",
       "3            1995  ['smoking', 'corner shop', 'cigarette', 'tobac...   \n",
       "4            1995  ['based on tv series', 'tokusatsu', 'superhero...   \n",
       "..            ...                                                ...   \n",
       "395          2017                        ['cgi', 'anthropomorphism']   \n",
       "396          2017                                        ['minions']   \n",
       "397          2017  ['based on novel', 'sequel', 'talking animal',...   \n",
       "398          2017                                     ['ice hockey']   \n",
       "399          2017                         ['knight', 'transformers']   \n",
       "\n",
       "                                                  Plot  \n",
       "0    In 1986, at Arkhangelsk, MI6 agents James Bond...  \n",
       "1    Craig Jones, a young man living in South Centr...  \n",
       "2    Fugitive bank robbers Seth and Richie Gecko ho...  \n",
       "3    The film once again centers on the Brooklyn Ci...  \n",
       "4    The Power Rangers participate with Bulk and Sk...  \n",
       "..                                                 ...  \n",
       "395  Lightning McQueen, now a seven-time Piston Cup...  \n",
       "396  Former villain Gru is now an agent for the Ant...  \n",
       "397  Two years have passed[9] since the human-hatin...  \n",
       "398  During a pro hockey lockout, Doug \"The Thug\" G...  \n",
       "399  In 484 AD, King Arthur and his knights battle ...  \n",
       "\n",
       "[390 rows x 6 columns]"
      ]
     },
     "execution_count": 52,
     "metadata": {},
     "output_type": "execute_result"
    }
   ],
   "source": [
    "movies = pd.read_csv('data/full_movies.csv')\n",
    "movies = movies.drop_duplicates()\n",
    "movies "
   ]
  },
  {
   "cell_type": "code",
   "execution_count": 49,
   "metadata": {},
   "outputs": [],
   "source": [
    "def preprocess_data(df):\n",
    "    \"\"\"\n",
    "    - Convert list-type columns (genres and keywords) to strings.\n",
    "    - Create a 'combined_text' column by concatenating Plot, genres, and keywords.\n",
    "    \"\"\"\n",
    "\n",
    "    df['genres'] = df['genres'].apply(lambda x: \" \".join(x) if isinstance(x, list) else x)\n",
    "    df['keywords'] = df['keywords'].apply(lambda x: \" \".join(x) if isinstance(x, list) else x)\n",
    "    df['combined_text'] = df['Plot'] + \" \" + df['genres'] + \" \" + df['keywords']\n",
    "    \n",
    "    return df"
   ]
  },
  {
   "cell_type": "code",
   "execution_count": 50,
   "metadata": {},
   "outputs": [],
   "source": [
    "def tfidf_function(text):\n",
    "    \"\"\"\n",
    "    Convert movie text into TF-IDF vectors.\n",
    "    \"\"\"\n",
    "    vectorizer = TfidfVectorizer(stop_words='english', ngram_range=(1,2))\n",
    "    tfidf_matrix = vectorizer.fit_transform(text)\n",
    "    return vectorizer, tfidf_matrix"
   ]
  },
  {
   "cell_type": "code",
   "execution_count": 63,
   "metadata": {},
   "outputs": [],
   "source": [
    "def compute_embeddings(text_list, model):\n",
    "    \"\"\"\n",
    "    Compute dense sentence embeddings for a list of texts using the given model.\n",
    "    \"\"\"\n",
    "    return model.encode(text_list, convert_to_tensor=True)\n"
   ]
  },
  {
   "cell_type": "code",
   "execution_count": null,
   "metadata": {},
   "outputs": [],
   "source": [
    "def recommend_movies(query, vectorizer, tfidf_matrix, model, embeddings, df, weight_tfidf=0.7, weight_st=0.3, top_n=5):\n",
    "    \"\"\"\n",
    "    Given a user query, compute a combined similarity score using both TF-IDF and Sentence Transformer embeddings.\n",
    "    \n",
    "    Parameters:\n",
    "      - query: the user query string.\n",
    "      - vectorizer, tfidf_matrix: TF-IDF vectorizer and matrix for the combined text.\n",
    "      - model, embeddings: Sentence Transformer model and precomputed embeddings for the combined text.\n",
    "      - df: the dataframe containing the movie data.\n",
    "      - weight_tfidf: weight for the TF-IDF similarity score.\n",
    "      - weight_st: weight for the Sentence Transformer similarity score.\n",
    "      - top_n: number of recommendations to return.\n",
    "      \n",
    "    Returns:\n",
    "      A dictionary containing the top recommended movies with Title, combined similarity score, and vote_average.\n",
    "    \"\"\"\n",
    "    # Compute TF-IDF similarity\n",
    "    query_tfidf = vectorizer.transform([query])\n",
    "    tfidf_sim = cosine_similarity(query_tfidf, tfidf_matrix).flatten()\n",
    "    \n",
    "    # Compute Sentence Transformer similarity\n",
    "    query = model.encode([query], convert_to_tensor=True)\n",
    "    st_sim = util.cos_sim(query, embeddings)[0]\n",
    "    st_sim = st_sim.cpu().numpy() if hasattr(st_sim, \"cpu\") else st_sim\n",
    "    st_sim = st_sim.flatten()\n",
    "    \n",
    "    # Combine the two similarity scores using a weighted sum\n",
    "    combined_sim = weight_tfidf * tfidf_sim + weight_st * st_sim\n",
    "    \n",
    "    # Get indices of the top_n movies\n",
    "    top_indices = combined_sim.argsort()[-top_n:][::-1]\n",
    "\n",
    "\n",
    "    recommendations = []\n",
    "    for idx in top_indices:\n",
    "        rec = {\n",
    "            \"Title\": df.iloc[idx]['Title'],\n",
    "            \"combined_similarity\": float(combined_sim[idx]),\n",
    "            \"vote_average\": df.iloc[idx]['vote_average']\n",
    "        }\n",
    "        recommendations.append(rec)\n",
    "    \n",
    "    return recommendations"
   ]
  },
  {
   "cell_type": "code",
   "execution_count": null,
   "metadata": {},
   "outputs": [],
   "source": [
    "def main():\n",
    "    if len(sys.argv) < 3:\n",
    "        print(\"Usage: python recommend_combined_no_df.py <path_to_dataset> \\\"<user query>\\\"\")\n",
    "        sys.exit(1)\n",
    "    \n",
    "    dataset_path = sys.argv[1]\n",
    "    user_query = sys.argv[2]\n",
    "    \n",
    "    # Load and preprocess the dataset\n",
    "    df = pd.read_csv(dataset_path)\n",
    "    df = preprocess_data(df)\n",
    "    \n",
    "    # Build the TF-IDF matrix for the combined text\n",
    "    vectorizer, tfidf_matrix = tfidf_function(df['combined_text'])\n",
    "    \n",
    "    # Load a pre-trained Sentence Transformer model\n",
    "    st_model = SentenceTransformer('all-MiniLM-L6-v2')\n",
    "    \n",
    "    # Compute Sentence Transformer embeddings for each movie's combined text\n",
    "    st_embeddings = compute_embeddings(df['combined_text'].tolist(), st_model)\n",
    "    \n",
    "    # Get combined recommendations\n",
    "    recommendations = recommend_movies(user_query, vectorizer, tfidf_matrix, st_model, st_embeddings, df)\n",
    "    \n",
    "    # Print recommendations in a user-friendly format\n",
    "    print(\"Top recommendations:\")\n",
    "    for rec in recommendations:\n",
    "        print(f\"Title: {rec['Title']} | Similarity: {rec['combined_similarity']:.4f} | Vote Average: {rec['vote_average']}\")\n",
    "    \n",
    "if __name__ == \"__main__\":\n",
    "    main()"
   ]
  },
  {
   "cell_type": "code",
   "execution_count": 78,
   "metadata": {},
   "outputs": [
    {
     "data": {
      "text/plain": [
       "[{'Title': 'Cinderella',\n",
       "  'combined_similarity': 0.1630351987232602,\n",
       "  'vote_average': np.float64(6.8)},\n",
       " {'Title': 'Sleuth',\n",
       "  'combined_similarity': 0.1295458823442459,\n",
       "  'vote_average': np.float64(6.4)},\n",
       " {'Title': 'Alice in Wonderland',\n",
       "  'combined_similarity': 0.12459665912640813,\n",
       "  'vote_average': np.float64(6.4)},\n",
       " {'Title': 'Inferno',\n",
       "  'combined_similarity': 0.1241196278574556,\n",
       "  'vote_average': np.float64(5.7)},\n",
       " {'Title': \"Happily N'Ever After\",\n",
       "  'combined_similarity': 0.11763475195066454,\n",
       "  'vote_average': np.float64(4.6)}]"
      ]
     },
     "execution_count": 78,
     "metadata": {},
     "output_type": "execute_result"
    }
   ],
   "source": [
    "user_query = 'I like fantasy movies that characters have magic.'\n",
    "vectorizer, tfidf_matrix = tfidf_function(df['combined_text'])\n",
    "model = SentenceTransformer('all-MiniLM-L6-v2')\n",
    "embeddings = compute_embeddings(df['combined_text'].tolist(), model)\n",
    "recommend_movies(user_query, vectorizer, tfidf_matrix, model, embeddings, df)\n"
   ]
  },
  {
   "cell_type": "markdown",
   "metadata": {},
   "source": []
  }
 ],
 "metadata": {
  "kernelspec": {
   "display_name": "dsc",
   "language": "python",
   "name": "python3"
  },
  "language_info": {
   "codemirror_mode": {
    "name": "ipython",
    "version": 3
   },
   "file_extension": ".py",
   "mimetype": "text/x-python",
   "name": "python",
   "nbconvert_exporter": "python",
   "pygments_lexer": "ipython3",
   "version": "3.12.8"
  }
 },
 "nbformat": 4,
 "nbformat_minor": 2
}
